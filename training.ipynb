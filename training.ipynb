{
 "cells": [
  {
   "cell_type": "code",
   "execution_count": 16,
   "metadata": {},
   "outputs": [],
   "source": [
    "import numpy as np\n",
    "import pandas as pd\n",
    "import matplotlib.pyplot as plt\n",
    "import seaborn as sns\n",
    "import torch\n",
    "import tqdm as notebook_tqdm\n",
    "%matplotlib inline\n",
    "\n",
    "# Don't Show Warning Messages\n",
    "import warnings\n",
    "warnings.filterwarnings('ignore')"
   ]
  },
  {
   "cell_type": "code",
   "execution_count": 9,
   "metadata": {},
   "outputs": [],
   "source": [
    "class ContrastiveLoss(torch.nn.Module):\n",
    "    \"\"\"\n",
    "    Contrastive loss function.\n",
    "    Based on:\n",
    "    \"\"\"\n",
    "\n",
    "    def __init__(self, margin=1.0):\n",
    "        super(ContrastiveLoss, self).__init__()\n",
    "        self.margin = margin\n",
    "\n",
    "    def check_type_forward(self, in_types):\n",
    "        assert len(in_types) == 3\n",
    "\n",
    "        x0_type, x1_type, y_type = in_types\n",
    "        assert x0_type.size() == x1_type.shape\n",
    "        assert x1_type.size()[0] == y_type.shape[0]\n",
    "        assert x1_type.size()[0] > 0\n",
    "        assert x0_type.dim() == 2\n",
    "        assert x1_type.dim() == 2\n",
    "        assert y_type.dim() == 1\n",
    "\n",
    "    def forward(self, x0, x1, y):\n",
    "        self.check_type_forward((x0, x1, y))\n",
    "\n",
    "        # euclidian distance\n",
    "        diff = x0 - x1\n",
    "        dist_sq = torch.sum(torch.pow(diff, 2), 1)\n",
    "        dist = torch.sqrt(dist_sq)\n",
    "\n",
    "        mdist = self.margin - dist\n",
    "        dist = torch.clamp(mdist, min=0.0)\n",
    "        loss = y * dist_sq + (1 - y) * torch.pow(dist, 2)\n",
    "        loss = torch.sum(loss) / 2.0 / x0.size()[0]\n",
    "        return loss"
   ]
  },
  {
   "cell_type": "code",
   "execution_count": 11,
   "metadata": {},
   "outputs": [],
   "source": [
    "import argparse\n",
    "import torch\n",
    "import torchvision.datasets as dsets\n",
    "import random\n",
    "import numpy as np\n",
    "import time\n",
    "import matplotlib.pyplot as plt\n",
    "\n",
    "from siarec.model import SiameseNetwork\n",
    "from torch.autograd import Variable\n",
    "from torchvision import transforms\n",
    "\n",
    "\n",
    "class Dataset(object):\n",
    "\n",
    "    def __init__(self, x0, x1, label):\n",
    "        self.size = label.shape[0]\n",
    "        self.x0 = torch.from_numpy(x0)\n",
    "        self.x1 = torch.from_numpy(x1)\n",
    "        self.label = torch.from_numpy(label)\n",
    "\n",
    "    def __getitem__(self, index):\n",
    "        return (self.x0[index],\n",
    "                self.x1[index],\n",
    "                self.label[index])\n",
    "\n",
    "    def __len__(self):\n",
    "        return self.size\n",
    "\n",
    "\n",
    "\n"
   ]
  },
  {
   "cell_type": "code",
   "execution_count": 20,
   "metadata": {},
   "outputs": [],
   "source": [
    "## Config\n",
    "epoch = 1\n",
    "batchsize = 8\n",
    "data_path = './data/'"
   ]
  },
  {
   "cell_type": "code",
   "execution_count": 4,
   "metadata": {},
   "outputs": [],
   "source": [
    "import tqdm as notebook_tqdm\n",
    "from siarec.dataset import ASRDataset\n",
    "from siarec.model import SiameseNetwork\n",
    "import os"
   ]
  },
  {
   "cell_type": "code",
   "execution_count": 17,
   "metadata": {},
   "outputs": [],
   "source": [
    "# iterate over files in directory\n",
    "# train_data = []\n",
    "# test_data = []\n",
    "\n",
    "# for files in os.listdir(data_path+\"train\"):\n",
    "#     speaker = files.split(\"_\")[0][-4:]\n",
    "#     train_data.append((data_path+\"train/\"+files, int(speaker)%45))\n",
    "\n",
    "# for files in os.listdir(data_path+\"test\"):\n",
    "#     speaker = files.split(\"_\")[0][-4:]\n",
    "#     train_data.append((data_path+\"test/\"+files, int(speaker)%45))\n",
    "\n",
    "# train_df = pd.DataFrame(train_data, columns=[\"path\", \"speaker\"])\n",
    "# test_df = pd.DataFrame(test_data, columns=[\"path\", \"speaker\"])\n",
    "\n",
    "# train_df.to_csv(\"./data/train/train.csv\", index=False)\n",
    "# test_df.to_csv(\"./data/test/test.csv\", index=False)\n"
   ]
  }
 ],
 "metadata": {
  "interpreter": {
   "hash": "f2430eaf48f5463d797560f7f0437af2b561f61bd8cf8286414d2ff27c781618"
  },
  "kernelspec": {
   "display_name": "Python 3.8.10 ('.asr': venv)",
   "language": "python",
   "name": "python3"
  },
  "language_info": {
   "codemirror_mode": {
    "name": "ipython",
    "version": 3
   },
   "file_extension": ".py",
   "mimetype": "text/x-python",
   "name": "python",
   "nbconvert_exporter": "python",
   "pygments_lexer": "ipython3",
   "version": "3.8.10"
  },
  "orig_nbformat": 4
 },
 "nbformat": 4,
 "nbformat_minor": 2
}
